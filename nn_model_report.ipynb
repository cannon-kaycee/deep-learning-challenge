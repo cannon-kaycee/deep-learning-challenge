{
 "cells": [
  {
   "cell_type": "markdown",
   "metadata": {},
   "source": [
    "Overview"
   ]
  },
  {
   "cell_type": "markdown",
   "metadata": {},
   "source": [
    "The purpose of this analysis is to provide a machine learning model for predicting how accurate an applicant for Alphabet Soup Charity funding would be successful. The process uses deep learning models. The following is an explanation of the results. "
   ]
  },
  {
   "cell_type": "markdown",
   "metadata": {},
   "source": [
    "Results"
   ]
  },
  {
   "cell_type": "markdown",
   "metadata": {},
   "source": [
    "Data Preprocessing:\n",
    "\n",
    "The variable that was considered the target for this model was the column of OneHotEncoded \"IS_SUCCESSFUL\" values.\n",
    "\n",
    "The variables considered the features of this model was the dataframe that did not include the column \"IS_SUCCESSFUL\".\n",
    "\n",
    "There were no variables that should be removed. \n",
    "\n",
    "Compiling, Training, and Evaluating the Model:\n",
    "\n",
    "I selected 4 layers for the first two tries for the optimization section, including the first and outer layer, and 5 for the final try. There were 5 neurons and I utilized three of the activiation models. The differences in options described were in order to get the highest accuracy score. \n",
    "\n",
    "I was not able to acheive the target model performance; the highest my accuracy was .72.\n",
    "\n",
    "I tried to improve the model by increasing the number of epochs by increments of 25, changing the number of units, changing the activation models, and changing the number of layers. \n"
   ]
  },
  {
   "cell_type": "markdown",
   "metadata": {},
   "source": [
    "Summary"
   ]
  },
  {
   "cell_type": "markdown",
   "metadata": {},
   "source": [
    "The overall results of the deep learning model include an accuracy score of 0.72. This score remained consistant throughout the trials. In future ML models, it would be good to have more data to compare, as well as attempting more times with increasing numbers of epochs and hidden layers. "
   ]
  }
 ],
 "metadata": {
  "language_info": {
   "name": "python"
  },
  "orig_nbformat": 4
 },
 "nbformat": 4,
 "nbformat_minor": 2
}
